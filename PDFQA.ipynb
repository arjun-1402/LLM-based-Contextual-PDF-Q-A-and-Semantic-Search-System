{
 "cells": [
  {
   "cell_type": "code",
   "execution_count": 1,
   "id": "6f296f23-cb27-4ecf-a297-891f0255d430",
   "metadata": {},
   "outputs": [
    {
     "name": "stderr",
     "output_type": "stream",
     "text": [
      "C:\\Users\\ARJUN\\anaconda3\\envs\\myenv\\Lib\\site-packages\\torch\\utils\\_pytree.py:185: FutureWarning: optree is installed but the version is too old to support PyTorch Dynamo in C++ pytree. C++ pytree support is disabled. Please consider upgrading optree using `python3 -m pip install --upgrade 'optree>=0.13.0'`.\n",
      "  warnings.warn(\n",
      "C:\\Users\\ARJUN\\anaconda3\\envs\\myenv\\Lib\\site-packages\\tqdm\\auto.py:21: TqdmWarning: IProgress not found. Please update jupyter and ipywidgets. See https://ipywidgets.readthedocs.io/en/stable/user_install.html\n",
      "  from .autonotebook import tqdm as notebook_tqdm\n"
     ]
    }
   ],
   "source": [
    "import PyPDF2\n",
    "from sentence_transformers import SentenceTransformer\n",
    "import faiss\n",
    "from transformers import pipeline\n"
   ]
  },
  {
   "cell_type": "code",
   "execution_count": 3,
   "id": "5aea2a6a-d6f3-40a2-9d0c-e1f66b075b27",
   "metadata": {},
   "outputs": [
    {
     "name": "stdout",
     "output_type": "stream",
     "text": [
      "✅ Extracted text length: 642\n"
     ]
    }
   ],
   "source": [
    "def extract_text_from_pdf(file_path):\n",
    "    reader = PyPDF2.PdfReader(file_path)\n",
    "    text = \"\"\n",
    "    for page in reader.pages:\n",
    "        text += page.extract_text()\n",
    "    return text\n",
    "\n",
    "pdf_path = \"data.pdf\"  # Make sure your PDF is named 'data.pdf'\n",
    "text = extract_text_from_pdf(pdf_path)\n",
    "print(\"✅ Extracted text length:\", len(text))\n"
   ]
  },
  {
   "cell_type": "code",
   "execution_count": 5,
   "id": "5d7f6e44-d62b-4fdf-b3fa-3b7c84f33578",
   "metadata": {},
   "outputs": [
    {
     "name": "stdout",
     "output_type": "stream",
     "text": [
      "✅ Number of chunks: 2\n"
     ]
    }
   ],
   "source": [
    "def chunk_text(text, chunk_size=500):\n",
    "    return [text[i:i+chunk_size] for i in range(0, len(text), chunk_size)]\n",
    "\n",
    "chunks = chunk_text(text)\n",
    "print(\"✅ Number of chunks:\", len(chunks))\n"
   ]
  },
  {
   "cell_type": "code",
   "execution_count": 7,
   "id": "3582c4d6-dace-4f8e-87fc-13ae57f494e2",
   "metadata": {},
   "outputs": [
    {
     "name": "stderr",
     "output_type": "stream",
     "text": [
      "C:\\Users\\ARJUN\\anaconda3\\envs\\myenv\\Lib\\site-packages\\huggingface_hub\\utils\\_deprecation.py:131: FutureWarning: 'cached_download' (from 'huggingface_hub.file_download') is deprecated and will be removed from version '0.26'. Use `hf_hub_download` instead.\n",
      "  warnings.warn(warning_message, FutureWarning)\n"
     ]
    },
    {
     "name": "stdout",
     "output_type": "stream",
     "text": [
      "✅ Vector index created!\n"
     ]
    }
   ],
   "source": [
    "embedding_model = SentenceTransformer('all-MiniLM-L6-v2')\n",
    "\n",
    "vectors = embedding_model.encode(chunks)\n",
    "index = faiss.IndexFlatL2(vectors.shape[1])\n",
    "index.add(vectors)\n",
    "\n",
    "print(\"✅ Vector index created!\")\n"
   ]
  },
  {
   "cell_type": "code",
   "execution_count": 9,
   "id": "a2244a52-083d-4434-8a7c-9f08e5a19eb1",
   "metadata": {},
   "outputs": [],
   "source": [
    "def search_chunks(query, chunks, model, index, top_k=1):\n",
    "    q_vector = model.encode([query])\n",
    "    _, I = index.search(q_vector, top_k)\n",
    "    return [chunks[i] for i in I[0]]\n"
   ]
  },
  {
   "cell_type": "code",
   "execution_count": 17,
   "id": "bca78372-d78e-4f8e-b70e-b365ee172809",
   "metadata": {},
   "outputs": [
    {
     "name": "stderr",
     "output_type": "stream",
     "text": [
      "C:\\Users\\ARJUN\\anaconda3\\envs\\myenv\\Lib\\site-packages\\huggingface_hub\\file_download.py:147: UserWarning: `huggingface_hub` cache-system uses symlinks by default to efficiently store duplicated files but your machine does not support them in C:\\Users\\ARJUN\\.cache\\huggingface\\hub\\models--deepset--roberta-base-squad2. Caching files will still work but in a degraded version that might require more space on your disk. This warning can be disabled by setting the `HF_HUB_DISABLE_SYMLINKS_WARNING` environment variable. For more details, see https://huggingface.co/docs/huggingface_hub/how-to-cache#limitations.\n",
      "To support symlinks on Windows, you either need to activate Developer Mode or to run Python as an administrator. In order to activate developer mode, see this article: https://docs.microsoft.com/en-us/windows/apps/get-started/enable-your-device-for-development\n",
      "  warnings.warn(message)\n"
     ]
    }
   ],
   "source": [
    "from transformers import AutoTokenizer, AutoModelForQuestionAnswering, pipeline\n",
    "\n",
    "model_name = \"deepset/roberta-base-squad2\"  # PyTorch-only model\n",
    "tokenizer = AutoTokenizer.from_pretrained(model_name)\n",
    "model = AutoModelForQuestionAnswering.from_pretrained(model_name)\n",
    "\n",
    "qa_pipeline = pipeline(\"question-answering\", model=model, tokenizer=tokenizer)\n"
   ]
  },
  {
   "cell_type": "code",
   "execution_count": 19,
   "id": "4f737aa0-81d1-4cca-800c-99c843e8681f",
   "metadata": {},
   "outputs": [],
   "source": [
    "def ask_question(question):\n",
    "    context = search_chunks(question, chunks, embedding_model, index)[0]\n",
    "    result = qa_pipeline(question=question, context=context)\n",
    "    return result[\"answer\"]\n"
   ]
  },
  {
   "cell_type": "code",
   "execution_count": 21,
   "id": "1345b60c-95f6-44e4-950d-db87ed822698",
   "metadata": {},
   "outputs": [
    {
     "name": "stdout",
     "output_type": "stream",
     "text": [
      "🧠 Answer: Earth is the only planet known to support life\n"
     ]
    }
   ],
   "source": [
    "question = \"What is the main idea of the document?\"  # Change this as needed\n",
    "answer = ask_question(question)\n",
    "print(\"🧠 Answer:\", answer)\n"
   ]
  },
  {
   "cell_type": "code",
   "execution_count": 23,
   "id": "89029da6-69e5-43be-a381-0a64902a0676",
   "metadata": {},
   "outputs": [
    {
     "name": "stdout",
     "output_type": "stream",
     "text": [
      "🧠 Answer: eight\n"
     ]
    }
   ],
   "source": [
    "question = \"How many planets are there in Solar System?\"  # Change this as needed\n",
    "answer = ask_question(question)\n",
    "print(\"🧠 Answer:\", answer)\n"
   ]
  },
  {
   "cell_type": "code",
   "execution_count": 25,
   "id": "84f2f489-9184-445f-b121-5548b410aa6c",
   "metadata": {},
   "outputs": [
    {
     "name": "stdout",
     "output_type": "stream",
     "text": [
      "🧠 Answer: Jupiter\n"
     ]
    }
   ],
   "source": [
    "question = \"Largest planet?\"  # Change this as needed\n",
    "answer = ask_question(question)\n",
    "print(\"🧠 Answer:\", answer)\n"
   ]
  },
  {
   "cell_type": "code",
   "execution_count": null,
   "id": "2e55d376-a9b7-489a-9d5f-7d04c6b50f11",
   "metadata": {},
   "outputs": [],
   "source": []
  }
 ],
 "metadata": {
  "kernelspec": {
   "display_name": "Python (myenv)",
   "language": "python",
   "name": "myenv"
  },
  "language_info": {
   "codemirror_mode": {
    "name": "ipython",
    "version": 3
   },
   "file_extension": ".py",
   "mimetype": "text/x-python",
   "name": "python",
   "nbconvert_exporter": "python",
   "pygments_lexer": "ipython3",
   "version": "3.12.4"
  }
 },
 "nbformat": 4,
 "nbformat_minor": 5
}
